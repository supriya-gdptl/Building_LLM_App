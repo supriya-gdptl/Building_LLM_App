{
 "cells": [
  {
   "cell_type": "code",
   "execution_count": 2,
   "id": "ca9785ad-9809-4fa6-bcef-3ac89a843de5",
   "metadata": {
    "scrolled": true
   },
   "outputs": [
    {
     "name": "stdout",
     "output_type": "stream",
     "text": [
      "Requirement already satisfied: weave in /Users/supriya/opt/anaconda3/envs/arxiv3d/lib/python3.10/site-packages (0.51.8)\n",
      "Requirement already satisfied: graphql-core>3 in /Users/supriya/opt/anaconda3/envs/arxiv3d/lib/python3.10/site-packages (from weave) (3.2.4)\n",
      "Requirement already satisfied: janus>=1.0.0 in /Users/supriya/opt/anaconda3/envs/arxiv3d/lib/python3.10/site-packages (from weave) (1.0.0)\n",
      "Requirement already satisfied: wandb>=0.17.1 in /Users/supriya/opt/anaconda3/envs/arxiv3d/lib/python3.10/site-packages (from weave) (0.18.1)\n",
      "Requirement already satisfied: Werkzeug>=3.0.3 in /Users/supriya/opt/anaconda3/envs/arxiv3d/lib/python3.10/site-packages (from weave) (3.0.4)\n",
      "Requirement already satisfied: packaging>=21.0 in /Users/supriya/opt/anaconda3/envs/arxiv3d/lib/python3.10/site-packages (from weave) (24.1)\n",
      "Requirement already satisfied: analytics-python>=1.2.9 in /Users/supriya/opt/anaconda3/envs/arxiv3d/lib/python3.10/site-packages (from weave) (1.2.9)\n",
      "Requirement already satisfied: tiktoken>=0.4.0 in /Users/supriya/opt/anaconda3/envs/arxiv3d/lib/python3.10/site-packages (from weave) (0.7.0)\n",
      "Requirement already satisfied: rich>=13.7.0 in /Users/supriya/opt/anaconda3/envs/arxiv3d/lib/python3.10/site-packages (from weave) (13.8.1)\n",
      "Requirement already satisfied: aiohttp>=3.8.3 in /Users/supriya/opt/anaconda3/envs/arxiv3d/lib/python3.10/site-packages (from weave) (3.10.6)\n",
      "Requirement already satisfied: tenacity!=8.4.0,>=8.3.0 in /Users/supriya/opt/anaconda3/envs/arxiv3d/lib/python3.10/site-packages (from weave) (9.0.0)\n",
      "Requirement already satisfied: numpy>=1.21 in /Users/supriya/opt/anaconda3/envs/arxiv3d/lib/python3.10/site-packages (from weave) (1.26.4)\n",
      "Requirement already satisfied: python-dateutil>=2.8.2 in /Users/supriya/opt/anaconda3/envs/arxiv3d/lib/python3.10/site-packages (from weave) (2.9.0.post0)\n",
      "Requirement already satisfied: aiofiles>=22.1.0 in /Users/supriya/opt/anaconda3/envs/arxiv3d/lib/python3.10/site-packages (from weave) (24.1.0)\n",
      "Requirement already satisfied: pydantic>=2.0.0 in /Users/supriya/opt/anaconda3/envs/arxiv3d/lib/python3.10/site-packages (from weave) (2.9.2)\n",
      "Requirement already satisfied: aioprocessing>=2.0.1 in /Users/supriya/opt/anaconda3/envs/arxiv3d/lib/python3.10/site-packages (from weave) (2.0.1)\n",
      "Requirement already satisfied: python-json-logger>=2.0.4 in /Users/supriya/opt/anaconda3/envs/arxiv3d/lib/python3.10/site-packages (from weave) (2.0.7)\n",
      "Collecting openai>=1.0.0\n",
      "  Downloading openai-1.50.0-py3-none-any.whl (378 kB)\n",
      "\u001b[2K     \u001b[90m━━━━━━━━━━━━━━━━━━━━━━━━━━━━━━━━━━━━━━━\u001b[0m \u001b[32m378.9/378.9 kB\u001b[0m \u001b[31m4.2 MB/s\u001b[0m eta \u001b[36m0:00:00\u001b[0m00:01\u001b[0m00:01\u001b[0m\n",
      "\u001b[?25hRequirement already satisfied: uuid-utils>=0.9.0 in /Users/supriya/opt/anaconda3/envs/arxiv3d/lib/python3.10/site-packages (from weave) (0.9.0)\n",
      "Requirement already satisfied: emoji>=2.12.1 in /Users/supriya/opt/anaconda3/envs/arxiv3d/lib/python3.10/site-packages (from weave) (2.13.2)\n",
      "Requirement already satisfied: gql[requests]>=3.4.1 in /Users/supriya/opt/anaconda3/envs/arxiv3d/lib/python3.10/site-packages (from weave) (3.5.0)\n",
      "Requirement already satisfied: pyarrow<17.0.0,>=14.0.1 in /Users/supriya/opt/anaconda3/envs/arxiv3d/lib/python3.10/site-packages (from weave) (16.1.0)\n",
      "Requirement already satisfied: typing-extensions>=4.0.0 in /Users/supriya/opt/anaconda3/envs/arxiv3d/lib/python3.10/site-packages (from weave) (4.12.2)\n",
      "Requirement already satisfied: multidict<7.0,>=4.5 in /Users/supriya/opt/anaconda3/envs/arxiv3d/lib/python3.10/site-packages (from aiohttp>=3.8.3->weave) (6.1.0)\n",
      "Requirement already satisfied: aiosignal>=1.1.2 in /Users/supriya/opt/anaconda3/envs/arxiv3d/lib/python3.10/site-packages (from aiohttp>=3.8.3->weave) (1.3.1)\n",
      "Requirement already satisfied: frozenlist>=1.1.1 in /Users/supriya/opt/anaconda3/envs/arxiv3d/lib/python3.10/site-packages (from aiohttp>=3.8.3->weave) (1.4.1)\n",
      "Requirement already satisfied: aiohappyeyeballs>=2.3.0 in /Users/supriya/opt/anaconda3/envs/arxiv3d/lib/python3.10/site-packages (from aiohttp>=3.8.3->weave) (2.4.0)\n",
      "Requirement already satisfied: async-timeout<5.0,>=4.0 in /Users/supriya/opt/anaconda3/envs/arxiv3d/lib/python3.10/site-packages (from aiohttp>=3.8.3->weave) (4.0.3)\n",
      "Requirement already satisfied: attrs>=17.3.0 in /Users/supriya/opt/anaconda3/envs/arxiv3d/lib/python3.10/site-packages (from aiohttp>=3.8.3->weave) (24.2.0)\n",
      "Requirement already satisfied: yarl<2.0,>=1.12.0 in /Users/supriya/opt/anaconda3/envs/arxiv3d/lib/python3.10/site-packages (from aiohttp>=3.8.3->weave) (1.12.1)\n",
      "Requirement already satisfied: six>=1.5 in /Users/supriya/opt/anaconda3/envs/arxiv3d/lib/python3.10/site-packages (from analytics-python>=1.2.9->weave) (1.16.0)\n",
      "Requirement already satisfied: requests<3.0,>=2.7 in /Users/supriya/opt/anaconda3/envs/arxiv3d/lib/python3.10/site-packages (from analytics-python>=1.2.9->weave) (2.32.3)\n",
      "Requirement already satisfied: anyio<5,>=3.0 in /Users/supriya/opt/anaconda3/envs/arxiv3d/lib/python3.10/site-packages (from gql[requests]>=3.4.1->weave) (4.6.0)\n",
      "Requirement already satisfied: backoff<3.0,>=1.11.1 in /Users/supriya/opt/anaconda3/envs/arxiv3d/lib/python3.10/site-packages (from gql[requests]>=3.4.1->weave) (2.2.1)\n",
      "Requirement already satisfied: requests-toolbelt<2,>=1.0.0 in /Users/supriya/opt/anaconda3/envs/arxiv3d/lib/python3.10/site-packages (from gql[requests]>=3.4.1->weave) (1.0.0)\n",
      "Requirement already satisfied: httpx<1,>=0.23.0 in /Users/supriya/opt/anaconda3/envs/arxiv3d/lib/python3.10/site-packages (from openai>=1.0.0->weave) (0.27.2)\n",
      "Requirement already satisfied: distro<2,>=1.7.0 in /Users/supriya/opt/anaconda3/envs/arxiv3d/lib/python3.10/site-packages (from openai>=1.0.0->weave) (1.9.0)\n",
      "Requirement already satisfied: jiter<1,>=0.4.0 in /Users/supriya/opt/anaconda3/envs/arxiv3d/lib/python3.10/site-packages (from openai>=1.0.0->weave) (0.5.0)\n",
      "Requirement already satisfied: tqdm>4 in /Users/supriya/opt/anaconda3/envs/arxiv3d/lib/python3.10/site-packages (from openai>=1.0.0->weave) (4.66.5)\n",
      "Requirement already satisfied: sniffio in /Users/supriya/opt/anaconda3/envs/arxiv3d/lib/python3.10/site-packages (from openai>=1.0.0->weave) (1.3.1)\n",
      "Requirement already satisfied: annotated-types>=0.6.0 in /Users/supriya/opt/anaconda3/envs/arxiv3d/lib/python3.10/site-packages (from pydantic>=2.0.0->weave) (0.7.0)\n",
      "Requirement already satisfied: pydantic-core==2.23.4 in /Users/supriya/opt/anaconda3/envs/arxiv3d/lib/python3.10/site-packages (from pydantic>=2.0.0->weave) (2.23.4)\n",
      "Requirement already satisfied: markdown-it-py>=2.2.0 in /Users/supriya/opt/anaconda3/envs/arxiv3d/lib/python3.10/site-packages (from rich>=13.7.0->weave) (3.0.0)\n",
      "Requirement already satisfied: pygments<3.0.0,>=2.13.0 in /Users/supriya/opt/anaconda3/envs/arxiv3d/lib/python3.10/site-packages (from rich>=13.7.0->weave) (2.18.0)\n",
      "Requirement already satisfied: regex>=2022.1.18 in /Users/supriya/opt/anaconda3/envs/arxiv3d/lib/python3.10/site-packages (from tiktoken>=0.4.0->weave) (2024.9.11)\n",
      "Requirement already satisfied: psutil>=5.0.0 in /Users/supriya/opt/anaconda3/envs/arxiv3d/lib/python3.10/site-packages (from wandb>=0.17.1->weave) (6.0.0)\n",
      "Requirement already satisfied: click!=8.0.0,>=7.1 in /Users/supriya/opt/anaconda3/envs/arxiv3d/lib/python3.10/site-packages (from wandb>=0.17.1->weave) (8.1.7)\n",
      "Requirement already satisfied: protobuf!=4.21.0,!=5.28.0,<6,>=3.19.0 in /Users/supriya/opt/anaconda3/envs/arxiv3d/lib/python3.10/site-packages (from wandb>=0.17.1->weave) (5.28.2)\n",
      "Requirement already satisfied: docker-pycreds>=0.4.0 in /Users/supriya/opt/anaconda3/envs/arxiv3d/lib/python3.10/site-packages (from wandb>=0.17.1->weave) (0.4.0)\n",
      "Requirement already satisfied: gitpython!=3.1.29,>=1.0.0 in /Users/supriya/opt/anaconda3/envs/arxiv3d/lib/python3.10/site-packages (from wandb>=0.17.1->weave) (3.1.43)\n",
      "Requirement already satisfied: sentry-sdk>=1.0.0 in /Users/supriya/opt/anaconda3/envs/arxiv3d/lib/python3.10/site-packages (from wandb>=0.17.1->weave) (2.14.0)\n",
      "Requirement already satisfied: pyyaml in /Users/supriya/opt/anaconda3/envs/arxiv3d/lib/python3.10/site-packages (from wandb>=0.17.1->weave) (6.0.2)\n",
      "Requirement already satisfied: setuptools in /Users/supriya/opt/anaconda3/envs/arxiv3d/lib/python3.10/site-packages (from wandb>=0.17.1->weave) (65.6.3)\n",
      "Requirement already satisfied: setproctitle in /Users/supriya/opt/anaconda3/envs/arxiv3d/lib/python3.10/site-packages (from wandb>=0.17.1->weave) (1.3.3)\n",
      "Requirement already satisfied: platformdirs in /Users/supriya/opt/anaconda3/envs/arxiv3d/lib/python3.10/site-packages (from wandb>=0.17.1->weave) (4.3.6)\n",
      "Requirement already satisfied: MarkupSafe>=2.1.1 in /Users/supriya/opt/anaconda3/envs/arxiv3d/lib/python3.10/site-packages (from Werkzeug>=3.0.3->weave) (2.1.5)\n",
      "Requirement already satisfied: idna>=2.8 in /Users/supriya/opt/anaconda3/envs/arxiv3d/lib/python3.10/site-packages (from anyio<5,>=3.0->gql[requests]>=3.4.1->weave) (3.10)\n",
      "Requirement already satisfied: exceptiongroup>=1.0.2 in /Users/supriya/opt/anaconda3/envs/arxiv3d/lib/python3.10/site-packages (from anyio<5,>=3.0->gql[requests]>=3.4.1->weave) (1.2.2)\n",
      "Requirement already satisfied: gitdb<5,>=4.0.1 in /Users/supriya/opt/anaconda3/envs/arxiv3d/lib/python3.10/site-packages (from gitpython!=3.1.29,>=1.0.0->wandb>=0.17.1->weave) (4.0.11)\n",
      "Requirement already satisfied: httpcore==1.* in /Users/supriya/opt/anaconda3/envs/arxiv3d/lib/python3.10/site-packages (from httpx<1,>=0.23.0->openai>=1.0.0->weave) (1.0.5)\n",
      "Requirement already satisfied: certifi in /Users/supriya/opt/anaconda3/envs/arxiv3d/lib/python3.10/site-packages (from httpx<1,>=0.23.0->openai>=1.0.0->weave) (2024.8.30)\n",
      "Requirement already satisfied: h11<0.15,>=0.13 in /Users/supriya/opt/anaconda3/envs/arxiv3d/lib/python3.10/site-packages (from httpcore==1.*->httpx<1,>=0.23.0->openai>=1.0.0->weave) (0.14.0)\n",
      "Requirement already satisfied: mdurl~=0.1 in /Users/supriya/opt/anaconda3/envs/arxiv3d/lib/python3.10/site-packages (from markdown-it-py>=2.2.0->rich>=13.7.0->weave) (0.1.2)\n",
      "Requirement already satisfied: urllib3<3,>=1.21.1 in /Users/supriya/opt/anaconda3/envs/arxiv3d/lib/python3.10/site-packages (from requests<3.0,>=2.7->analytics-python>=1.2.9->weave) (2.2.3)\n",
      "Requirement already satisfied: charset-normalizer<4,>=2 in /Users/supriya/opt/anaconda3/envs/arxiv3d/lib/python3.10/site-packages (from requests<3.0,>=2.7->analytics-python>=1.2.9->weave) (3.3.2)\n",
      "Requirement already satisfied: smmap<6,>=3.0.1 in /Users/supriya/opt/anaconda3/envs/arxiv3d/lib/python3.10/site-packages (from gitdb<5,>=4.0.1->gitpython!=3.1.29,>=1.0.0->wandb>=0.17.1->weave) (5.0.1)\n",
      "Installing collected packages: openai\n",
      "  Attempting uninstall: openai\n",
      "    Found existing installation: openai 0.28.0\n",
      "    Uninstalling openai-0.28.0:\n",
      "      Successfully uninstalled openai-0.28.0\n",
      "Successfully installed openai-1.50.0\n"
     ]
    }
   ],
   "source": [
    "!pip install weave"
   ]
  },
  {
   "cell_type": "code",
   "execution_count": 3,
   "id": "7b491591-f690-4b1c-9976-3177a9bc1a6a",
   "metadata": {},
   "outputs": [
    {
     "name": "stdout",
     "output_type": "stream",
     "text": [
      "weave version 0.51.10 is available!  To upgrade, please run:\n",
      " $ pip install weave --upgrade\n",
      "Logged in as Weights & Biases user: supriyagdptl.\n",
      "View Weave data at https://wandb.ai/supriyagdptl/gemini-weave/weave\n"
     ]
    },
    {
     "data": {
      "text/plain": [
       "<weave.trace.weave_client.WeaveClient at 0x161532950>"
      ]
     },
     "execution_count": 3,
     "metadata": {},
     "output_type": "execute_result"
    }
   ],
   "source": [
    "import weave\n",
    "weave.init(\"gemini-weave\")"
   ]
  },
  {
   "cell_type": "code",
   "execution_count": 4,
   "id": "1d8b2481-4a8a-496f-96c0-30f862763141",
   "metadata": {},
   "outputs": [],
   "source": [
    "import google.generativeai as genai"
   ]
  },
  {
   "cell_type": "code",
   "execution_count": 13,
   "id": "262f6acc-be70-4d5d-8866-36f4b476ace4",
   "metadata": {},
   "outputs": [],
   "source": [
    "from pprint import pprint"
   ]
  },
  {
   "cell_type": "code",
   "execution_count": 1,
   "id": "b9be9418-9300-41e3-acee-43c77edd73af",
   "metadata": {},
   "outputs": [],
   "source": [
    "from getpass import getpass"
   ]
  },
  {
   "cell_type": "code",
   "execution_count": 2,
   "id": "f695c6ef-3584-47c4-96fa-2d3ec51662ba",
   "metadata": {},
   "outputs": [
    {
     "name": "stdin",
     "output_type": "stream",
     "text": [
      "Paste your Google Gemini API key from: https://aistudio.google.com/app/apikey\n",
      " ········\n"
     ]
    }
   ],
   "source": [
    "GOOGLE_GEMINI_API_KEY = getpass(\"Paste your Google Gemini API key from: https://aistudio.google.com/app/apikey\\n\")"
   ]
  },
  {
   "cell_type": "code",
   "execution_count": 5,
   "id": "e059b37d-7bc4-4e98-a38c-806da5e02e95",
   "metadata": {},
   "outputs": [],
   "source": [
    "genai.configure(api_key=GOOGLE_GEMINI_API_KEY)"
   ]
  },
  {
   "cell_type": "code",
   "execution_count": 8,
   "id": "22a9f795-ea6a-42c8-bacc-f8f17de879c3",
   "metadata": {
    "scrolled": true
   },
   "outputs": [
    {
     "name": "stdout",
     "output_type": "stream",
     "text": [
      "Model(name='models/gemini-1.5-pro-latest',\n",
      "      base_model_id='',\n",
      "      version='001',\n",
      "      display_name='Gemini 1.5 Pro Latest',\n",
      "      description='Mid-size multimodal model that supports up to 2 million tokens',\n",
      "      input_token_limit=2000000,\n",
      "      output_token_limit=8192,\n",
      "      supported_generation_methods=['generateContent', 'countTokens'],\n",
      "      temperature=1.0,\n",
      "      max_temperature=2.0,\n",
      "      top_p=0.95,\n",
      "      top_k=64)\n"
     ]
    }
   ],
   "source": [
    "model_info = genai.get_model('models/gemini-1.5-pro-latest')\n",
    "print(model_info)"
   ]
  },
  {
   "cell_type": "code",
   "execution_count": 9,
   "id": "cdf23c38-198e-4893-97bf-d91d6cee7dda",
   "metadata": {},
   "outputs": [],
   "source": [
    "model = genai.GenerativeModel('models/gemini-1.5-pro-latest')"
   ]
  },
  {
   "cell_type": "code",
   "execution_count": 11,
   "id": "b6cb102d-651b-4057-81b1-d0b07f5da7fc",
   "metadata": {},
   "outputs": [],
   "source": [
    "@weave.op()\n",
    "def generate_with_temperature(temp):\n",
    "  \"Generate text with a given temperature, higher temperature means more randomness\"\n",
    "  response = model.generate_content(\"write something about Weights and biases\", \n",
    "                                     generation_config=genai.types.GenerationConfig(\n",
    "                                                           temperature=temp, max_output_tokens=50))\n",
    "  return {\n",
    "        'summary': response.text\n",
    "    }"
   ]
  },
  {
   "cell_type": "code",
   "execution_count": 15,
   "id": "fb23bbc5-e1a6-42cb-a925-6dd3fea5758c",
   "metadata": {},
   "outputs": [
    {
     "name": "stdout",
     "output_type": "stream",
     "text": [
      "🍩 https://wandb.ai/supriyagdptl/gemini-weave/r/call/019231b8-a991-7623-ae1f-d015a0bf2ce2\n",
      "('TEMP: 1.5, GENERATION: {\\'summary\\': \"## Weights & Biases: Your Machine '\n",
      " 'Learning Experimentation Sidekick\\\\n\\\\nWeights & Biases (W&B) is like a '\n",
      " 'meticulous lab notebook, but for machine learning. It empowers you to track '\n",
      " 'your experiments, visualize your models\\' performance, and\"}')\n",
      "🍩 https://wandb.ai/supriyagdptl/gemini-weave/r/call/019231b8-af49-7812-bbbe-ef0360a728f2\n",
      "('TEMP: 2, GENERATION: {\\'summary\\': \"## Tracking Your Machine Learning '\n",
      " 'Journey with Weights & Biases\\\\n\\\\nTraining machine learning models can feel '\n",
      " \"like navigating a maze in the dark. You're tweaking parameters, \"\n",
      " 'experimenting with architectures, and hoping to stumble upon that magical '\n",
      " 'combination that unlocks peak performance.  \"}')\n"
     ]
    }
   ],
   "source": [
    "for temp in [1.5, 2]:\n",
    "  pprint(f'TEMP: {temp}, GENERATION: {generate_with_temperature(temp)}')"
   ]
  },
  {
   "cell_type": "code",
   "execution_count": null,
   "id": "9f0e1b7b-82b8-431b-8330-d464aa20f03a",
   "metadata": {},
   "outputs": [],
   "source": []
  }
 ],
 "metadata": {
  "kernelspec": {
   "display_name": "Python 3 (ipykernel)",
   "language": "python",
   "name": "python3"
  },
  "language_info": {
   "codemirror_mode": {
    "name": "ipython",
    "version": 3
   },
   "file_extension": ".py",
   "mimetype": "text/x-python",
   "name": "python",
   "nbconvert_exporter": "python",
   "pygments_lexer": "ipython3",
   "version": "3.10.9"
  }
 },
 "nbformat": 4,
 "nbformat_minor": 5
}
